{
 "cells": [
  {
   "cell_type": "code",
   "execution_count": 1,
   "metadata": {},
   "outputs": [],
   "source": [
    "from typing import Optional, Sequence, List, Dict, Any, Type, Union\n",
    "import os\n",
    "import json\n",
    "from copy import deepcopy\n",
    "import random\n",
    "\n",
    "\n",
    "def convert_to_list(x: Union[Any, Sequence[Any]]) -> List[Any]:\n",
    "    if isinstance(x, (list, tuple)):\n",
    "        return list(x)\n",
    "    else:\n",
    "        return [x]\n",
    "\n",
    "def load_json(path: Union[str, List[str]]) -> Union[dict, List[dict]]:\n",
    "    paths = convert_to_list(path)\n",
    "    \n",
    "    data = None\n",
    "    for path in paths:\n",
    "        if not os.path.exists(path):\n",
    "            raise ValueError(f\"{path} does not exist\")\n",
    "        \n",
    "        with open(path, \"r\", encoding=\"utf-8\") as f:\n",
    "            json_data = json.load(f)\n",
    "            if isinstance(json_data, dict):\n",
    "                if data is None:\n",
    "                    data = json_data\n",
    "                else:\n",
    "                    assert isinstance(data, dict), f\"Each previous json file contains a list of json dicts, while {path} contains only a json dict\"\n",
    "                    data.update(json_data)\n",
    "            elif isinstance(json_data, list):\n",
    "                if data is None:\n",
    "                    data = json_data\n",
    "                else:\n",
    "                    assert isinstance(data, list), f\"Each previous json file contains a json dict, while {path} contains only a list of json dicts\"\n",
    "                    data.extend(json_data)\n",
    "            else:\n",
    "                raise ValueError(f\"{path} is not a valid json file\")\n",
    "            \n",
    "    return data\n",
    "\n",
    "def load_jsonl(path: Union[str, List[str]]) -> List[dict]:\n",
    "    paths = convert_to_list(path)\n",
    "    \n",
    "    data = []\n",
    "    for path in paths:\n",
    "        if not os.path.exists(path):\n",
    "            raise ValueError(f\"{path} does not exist\")\n",
    "        \n",
    "        with open(path, \"r\", encoding=\"utf-8\") as f:\n",
    "            for line in f:\n",
    "                data.append(json.loads(line))\n",
    "    \n",
    "    return data\n",
    "\n",
    "def save_json(data: Union[dict, List[dict]], path: str) -> None:\n",
    "    if not path.endswith(\".json\"):\n",
    "        raise ValueError(f\"{path} is not a json file\")\n",
    "    if not os.path.exists(os.path.dirname(path)):\n",
    "        os.makedirs(os.path.dirname(path))\n",
    "        \n",
    "    with open(path, \"w\", encoding=\"utf-8\") as f:\n",
    "        json.dump(data, f, ensure_ascii=False, indent=4)\n",
    "\n",
    "def save_jsonl(data: List[dict], path: str) -> None:\n",
    "    if not path.endswith(\".jsonl\"):\n",
    "        raise ValueError(f\"{path} is not a jsonl file\")\n",
    "    if not os.path.exists(os.path.dirname(path)):\n",
    "        os.makedirs(os.path.dirname(path))\n",
    "        \n",
    "    with open(path, \"w\", encoding=\"utf-8\") as f:\n",
    "        for line in data:\n",
    "            f.write(json.dumps(line, ensure_ascii=False) + \"\\n\")\n"
   ]
  },
  {
   "cell_type": "code",
   "execution_count": 2,
   "metadata": {},
   "outputs": [],
   "source": [
    "train_data_path = \"./original/claude_multiround_chat_30k.json\"\n",
    "test_data_path = \"./original/claude_multiround_chat_1k.json\""
   ]
  },
  {
   "cell_type": "code",
   "execution_count": 3,
   "metadata": {},
   "outputs": [],
   "source": [
    "train_data = load_json(train_data_path)\n",
    "test_data = load_json(test_data_path)"
   ]
  },
  {
   "cell_type": "code",
   "execution_count": 4,
   "metadata": {},
   "outputs": [
    {
     "data": {
      "text/plain": [
       "(32170,\n",
       " 1609,\n",
       " dict_keys(['id', 'conversations']),\n",
       " dict_keys(['id', 'conversations']))"
      ]
     },
     "execution_count": 4,
     "metadata": {},
     "output_type": "execute_result"
    }
   ],
   "source": [
    "len(train_data), len(test_data), test_data[0].keys(), train_data[0].keys()"
   ]
  },
  {
   "cell_type": "code",
   "execution_count": 5,
   "metadata": {},
   "outputs": [
    {
     "name": "stdout",
     "output_type": "stream",
     "text": [
      "Conversations:\n",
      "1. [human]: Imagine you are sitting by an open window on a warm summer day. Jot down whatever creative thoughts and descriptions spring to mind as you gaze at the scene outside. Focus on sensory details of sight, sound and smell to convey the mood and atmosphere.\n",
      "\n",
      "1. [gpt]: The warm summer breeze flows lazily through the window, carrying with it the sweet scent of freshly mowed grass and roses in full bloom. Bumblebees  hover lazily over the flowerbeds, their humming joining with the chorus of birds nesting in the trees lining the driveway. Gold sunlight streams through the leaves of the towering oak in the front yard, casting dappled shadows that dance across the siding of the house.  Children's laughter drifts through the air from a nearby backyard pool party as they splash and swim beneath a cerulean blue sky devoid of clouds. The air holds a stillness, a waiting, as if even nature itself pauses to soak in the simple pleasures of a perfect summer day. Before me lies a tapestry of sights, sounds and smells that weave together to create an atmosphere of lazy joy and contentment, a moment worth savoring for the peace it brings my wandering mind.\n",
      "\n",
      "2. [human]: Wonderful, you've painted a vivid picture using descriptive details. Now let's build upon that scene even more. Focus your description on one particular sensory aspect such as sound or smell and provide at least three very specific details relating to that sense.\n",
      "\n",
      "2. [gpt]: The sweet smell of honeysuckle permeates the air, mixing with the tart aroma of freshly cut grass and the fragrant bloom of oleander bushes growing along the fence. The heady perfume carries on the warm summer breeze, filling my senses and transporting my mind to carefree days of youth spent outdoors.\n",
      "\n",
      "3. [human]: Focus your description now on the sounds you would hear on this perfect summer day, providing at least three distinct sounds with details.\n",
      "\n",
      "3. [gpt]: The warm summer air carries a symphony of sounds through the open window.  The buzzing drones of bees hovering over flowerbeds mix with the chirping of crickets hidden in the grass. The rhythmical chopping of a neighbor cutting wood joins their song.  In the distance, I hear the splashing and laughter of children swimming in an unseen pool, their high-pitched squeals piercing the stillness. Closer by, the rhythmic whirring of a lawn mower accompanies the clicking of sprinklers spraying refreshing mists of water. All around, birds call out to each other from the trees and shrubs lining the yard, their tweets and chirps a joyful melody on this perfect summer day.\n",
      "\n"
     ]
    }
   ],
   "source": [
    "print(f\"Conversations:\")\n",
    "for i, c in enumerate(test_data[0]['conversations']):\n",
    "    print(f\"{i//2+1}. [{c['from']}]: {c['value']}\")\n",
    "    print()"
   ]
  },
  {
   "cell_type": "code",
   "execution_count": 6,
   "metadata": {},
   "outputs": [],
   "source": [
    "user_role_value = \"user\"\n",
    "bot_role_value = \"chatbot\"\n",
    "\n",
    "role_key = \"role\"\n",
    "content_key = \"content\"\n",
    "conversations_key = \"conversations\""
   ]
  },
  {
   "cell_type": "code",
   "execution_count": 7,
   "metadata": {},
   "outputs": [
    {
     "name": "stdout",
     "output_type": "stream",
     "text": [
      "580\n"
     ]
    },
    {
     "data": {
      "text/plain": [
       "500"
      ]
     },
     "execution_count": 7,
     "metadata": {},
     "output_type": "execute_result"
    }
   ],
   "source": [
    "test_data_ = []\n",
    "test_max_seq_len = int(1000 * 0.75)\n",
    "test_max_num_samples = 500\n",
    "\n",
    "for test_sample in test_data:\n",
    "    conversations = test_sample[\"conversations\"]\n",
    "    total_len = sum(len(c[\"value\"].split()) for c in conversations)\n",
    "    if total_len > test_max_seq_len:\n",
    "        continue\n",
    "    \n",
    "    test_data_.append({\n",
    "        conversations_key: [\n",
    "            {\n",
    "                role_key: (user_role_value if c[\"from\"] == \"human\" else bot_role_value),\n",
    "                content_key: c[\"value\"],\n",
    "            }\n",
    "            for c in conversations\n",
    "        ]\n",
    "    })\n",
    "print(len(test_data_))\n",
    "\n",
    "if len(test_data_) > test_max_num_samples:\n",
    "    random.seed(42)\n",
    "    test_data_ = random.sample(test_data_, test_max_num_samples)\n",
    "\n",
    "len(test_data_)"
   ]
  },
  {
   "cell_type": "code",
   "execution_count": 8,
   "metadata": {},
   "outputs": [
    {
     "name": "stdout",
     "output_type": "stream",
     "text": [
      "Conversations:\n",
      "1. [user]: Derive the quadratic formula through algebraic manipulation of the quadratic equation, beginning with:\n",
      "\n",
      "If a quadratic equation in the form ax2 + bx + c = 0, where a ≠ 0, has roots r1 and r2, then the quadratic equation may be rewritten as a(x - r1)(x - r2) = 0. Expanding this yields a familiar form. Show each step of the algebraic manipulation, proving that the quadratic formula,\n",
      "\n",
      "r1,2 = ( -b ± √(b2 - 4ac) ) / (2a),\n",
      "\n",
      "emerges as the solution.\n",
      "\n",
      "1. [chatbot]: If ax2 + bx + c = 0, where a ≠ 0, has roots r1 and r2, then    \n",
      "         a(x - r1)(x - r2) = 0       \n",
      "     Expanding the left side:\n",
      "          a(x2 - (r1 + r2)x + r1r2) = 0 \n",
      " Using the summation of roots formula −b/a = r1 + r2 and the product of roots formula c/a = r1r2, we can substitute:\n",
      "         a(x2  - (-b/a)x + c/a) = 0\n",
      "         ax2 -bx + c = 0        \n",
      "By equating the two quadratic equations, we arrive at the quadratic formula:\n",
      " \n",
      "         x = ( -b ± √(b2 - 4ac) ) / (2a)\n",
      "\n",
      "In summary, through algebraic manipulations of the standard quadratic equation and properties of roots, we derived the quadratic formula, which solves for the two roots (r1 and r2) of any quadratic equation in the form ax2 + bx + c = 0\n",
      "\n",
      "2. [user]: Show steps for solving this example quadratic equation using the quadratic formula:\n",
      "\n",
      "4x^2 - 8x -15 = 0\n",
      "\n",
      "2. [chatbot]: Let's solve the quadratic equation 4x^2 - 8x -15 = 0 using the quadratic formula:\n",
      "* We are given the standard form quadratic equation: 4x^2  - 8x - 15 = 0\n",
      "* Plugging the coefficients into the quadratic formula:\n",
      "   * a = 4\n",
      "   * b = -8  \n",
      "   * c = -15\n",
      "* The quadratic formula is: x = (-b ± √(b2 - 4ac)) / 2a\n",
      "* Substituting the values: \n",
      "     *x = (-(-8) ± √((-8)2 - 4(4)(-15)) ) / 2(4)*\n",
      "   *x = (8 ± √(64 + 240)) / 8*\n",
      "   *x = (8 ± √304) / 8*\n",
      "* Simplifying the radical: √304 = 17  \n",
      "* Solving the quadratic equation:\n",
      "   * x = (8 + 17)/8 = 5\n",
      "   *x = (8 - 17)/8 = -1\n",
      "\n",
      "Therefore, the two solutions for the quadratic equation  4x^2 - 8x -15 = 0 are: x = 5 and x = -1\n",
      "\n",
      "3. [user]: Show the steps for one of the solutions in more detail:\n",
      "\n",
      "4x^2 - 8x -15 = 0    \n",
      "\n",
      "a = 4, b= -8, c = -15    \n",
      "\n",
      "The quadratic formula is: x = (-b ± √(b2 - 4ac)) / 2a    \n",
      "\n",
      "Substituting the values:  \n",
      "    \n",
      "x = (-(-8) + √((-8)2 - 4(4)(-15)) ) / 2(4)   \n",
      "\n",
      "x = (8 + √(64 + 240)) / 8\n",
      "\n",
      "x = (8 + √304) / 8   \n",
      "\n",
      "Simplifying the radical : √304 = 17    \n",
      "\n",
      "So:  \n",
      "\n",
      "x = (8 + 17)/8  \n",
      "\n",
      "x = 25/8\n",
      "\n",
      "Therefore, one of the solutions is:   \n",
      "\n",
      "x = 5\n",
      "\n",
      "3. [chatbot]: Given:\n",
      "4x^2 - 8x -15 = 0    \n",
      "\n",
      "a = 4, b= -8, c = -15    \n",
      "\n",
      "The quadratic formula is:  \n",
      "         x = (-b + √(b2 - 4ac)) / 2a\n",
      "\n",
      "Substituting the values into the quadratic formula:\n",
      "    \n",
      "x = (-(-8) + √((-8)^2 - 4(4)(-15)) ) / 2(4)   \n",
      "\n",
      "x = (8 + √(64 + 240)) / 8\n",
      "\n",
      "Expanding (64 + 240)      \n",
      "  \n",
      "x = (8 + √304) / 8\n",
      "\n",
      "Simplifying the radical:    \n",
      "   \n",
      "√304 = 17     \n",
      "\n",
      "Substituting √304 = 17 in the equation:\n",
      "\n",
      "x = (8 + 17)/8\n",
      "\n",
      "Evaluating (8 + 17)/8:\n",
      "\n",
      "x = 25/8\n",
      "  \n",
      "Therefore, one of the solutions is:\n",
      "\n",
      "x = 5\n",
      "\n"
     ]
    }
   ],
   "source": [
    "print(f\"Conversations:\")\n",
    "for i, c in enumerate(test_data_[0][conversations_key]):\n",
    "    print(f\"{i//2+1}. [{c[role_key]}]: {c[content_key]}\")\n",
    "    print()"
   ]
  },
  {
   "cell_type": "code",
   "execution_count": null,
   "metadata": {},
   "outputs": [],
   "source": []
  },
  {
   "cell_type": "code",
   "execution_count": 9,
   "metadata": {},
   "outputs": [
    {
     "name": "stdout",
     "output_type": "stream",
     "text": [
      "11441\n"
     ]
    },
    {
     "data": {
      "text/plain": [
       "(9800, 200)"
      ]
     },
     "execution_count": 9,
     "metadata": {},
     "output_type": "execute_result"
    }
   ],
   "source": [
    "train_data_ = []\n",
    "train_max_seq_len = int(1000 * 0.75)\n",
    "train_max_num_samples = 10000\n",
    "eval_ratio = 0.02\n",
    "\n",
    "for train_sample in train_data:\n",
    "    conversations = train_sample[\"conversations\"]\n",
    "    total_len = sum(len(c[\"value\"].split()) for c in conversations)\n",
    "    if total_len > train_max_seq_len:\n",
    "        continue\n",
    "    \n",
    "    train_data_.append({\n",
    "        conversations_key: [\n",
    "            {\n",
    "                role_key: (user_role_value if c[\"from\"] == \"human\" else bot_role_value),\n",
    "                content_key: c[\"value\"],\n",
    "            }\n",
    "            for c in conversations\n",
    "        ]\n",
    "    })\n",
    "print(len(train_data_))\n",
    "\n",
    "if len(train_data_) > train_max_num_samples:\n",
    "    random.seed(42)\n",
    "    train_data_ = random.sample(train_data_, train_max_num_samples)\n",
    "\n",
    "\n",
    "num_train_samples = len(train_data_)\n",
    "num_eval_samples = int(num_train_samples * eval_ratio)\n",
    "\n",
    "train_data_ = train_data_[:-num_eval_samples]\n",
    "eval_data_ = train_data_[-num_eval_samples:]\n",
    "\n",
    "len(train_data_), len(eval_data_)"
   ]
  },
  {
   "cell_type": "code",
   "execution_count": 10,
   "metadata": {},
   "outputs": [
    {
     "name": "stdout",
     "output_type": "stream",
     "text": [
      "Conversations:\n",
      "1. [user]: Explain how to set up and start playing an enjoyable game of Monopoly with at least three other people. Cover explaining the rules, placing the properties and other game pieces on the board, choosing game pieces, taking turns rolling the dice and moving around the board, buying and trading properties, building houses and hotels, paying rents and taxes, avoiding jail, using Chance and Community Chest cards, and declaring a winner.\n",
      "\n",
      "1. [chatbot]: 1. Gather 3-6 players to join the game. Each player chooses a game piece like the shoe, hat, car, wheelbarrow, dog or iron.  \n",
      "\n",
      "2. Shuffle the Chance and Community Chest cards and place them face down on their respective spaces on the board.\n",
      "\n",
      "3. Place the property title deed cards face down and sort them by color groups. Place the houses and hotels nearby.\n",
      "\n",
      "4. Place all game money - bills, houses, hotels - in the central bank. Each player receives an initial $1500 to 1499 as starting cash.\n",
      "\n",
      "5. Explain the basic rules to players:\n",
      "\n",
      "- Players take turns rolling the dice and moving their piece clockwise around the board.  \n",
      "- On each property space a player lands, they have the option to buy that property by paying the amount shown on the card.\n",
      "- Players build houses and hotels on their properties to increase rent.\n",
      "- Players pay rent to the owner any time their token lands on that property space.\n",
      "- Players must pay taxes, fees, fines as indicated on spaces they land on.\n",
      "- If a player lands on or draws card that sends them to jail, they miss a turn.\n",
      "\n",
      "6. Players take turns rolling the dice and moving their piece. Property is bought and sold. Houses and hotels  are built. Rent is paid. bankrupt players are eliminated.\n",
      "\n",
      "7\n",
      "\n",
      "2. [user]: Continue playing until one player has no money left and declares bankruptcy, or agrees to surrender and drop out of the game. The last remaining player is the Monopoly champion!\n",
      "\n",
      "2. [chatbot]: 7. Players continue taking turns until one of the following occurs:\n",
      "\n",
      "- One player is bankrupt and has no assets or cash left. They are then eliminated from the game.   \n",
      "- All other players agree that one player has overwhelmingly won the game due to a massive advantage in assets and cash. This player is then declared the winner.\n",
      "\n",
      "- By popular agreement, all remaining players agree to end the game and share any remaining assets to determine an overall winner based on total net worth.  \n",
      "\n",
      "The last remaining player, or player with the greatest total net worth at the end of the game, is then declared the Monopoly champion!\n",
      "\n",
      "3. [user]: As the game comes to an end and a winner is declared, gather all the game pieces, money and title deed cards. Collect any houses and hotels left on the board. Then, thank the other players for joining the game and make plans to play again another time. Properly putting the game away and showing appreciation for others participating will help ensure many more fun games of Monopoly in the future!\n",
      "\n",
      "3. [chatbot]: To set up:\n",
      "\n",
      "•Gather 3-6 players and have each select a game piece \n",
      "\n",
      "•Shuffle the chance and community chest cards and place them on the board \n",
      "\n",
      "•Sort and place face down the property deed cards  \n",
      "\n",
      "•Place starting cash and all other money in the central bank  \n",
      "\n",
      "•Explain basic rules to players  \n",
      "\n",
      "To play:\n",
      "\n",
      "•Players take turns rolling the dice, moving their piece, and buying properties  \n",
      "\n",
      "•Players build houses and hotels to collect rent     \n",
      "\n",
      "•Players pay rent, taxes, fees as indicated      \n",
      "\n",
      "To finish:\n",
      "\n",
      "•The game ends when one player goes bankrupt or all others agree one player has won   \n",
      "\n",
      "•By agreement, remaining players can determine an overall winner based on total net worth\n",
      "\n",
      "•The last remaining player or player with greatest net worth is the Monopoly champion\n",
      "\n",
      "•Collect all game pieces, money, and properties      \n",
      "\n",
      "•Remove any remaining houses and hotels from  the board\n",
      "\n",
      "•Thank the players for joining and make plans  to play again soon   \n",
      " to ensure more fun games in the future\n",
      "\n"
     ]
    }
   ],
   "source": [
    "print(f\"Conversations:\")\n",
    "for i, c in enumerate(train_data_[0][conversations_key]):\n",
    "    print(f\"{i//2+1}. [{c[role_key]}]: {c[content_key]}\")\n",
    "    print()"
   ]
  },
  {
   "cell_type": "code",
   "execution_count": null,
   "metadata": {},
   "outputs": [],
   "source": []
  },
  {
   "cell_type": "code",
   "execution_count": 11,
   "metadata": {},
   "outputs": [],
   "source": [
    "test_save_path = \"./chat_test.jsonl\"\n",
    "train_save_path = \"./chat_train.jsonl\"\n",
    "eval_save_path = \"./chat_eval.jsonl\""
   ]
  },
  {
   "cell_type": "code",
   "execution_count": 12,
   "metadata": {},
   "outputs": [],
   "source": [
    "save_jsonl(test_data_, test_save_path) # 0.5k, token length < 1k\n",
    "save_jsonl(train_data_, train_save_path) # 10k - 0.2k, token length < 1k\n",
    "save_jsonl(eval_data_, eval_save_path) # 0.2k, token length < 1k"
   ]
  },
  {
   "cell_type": "code",
   "execution_count": null,
   "metadata": {},
   "outputs": [],
   "source": []
  }
 ],
 "metadata": {
  "kernelspec": {
   "display_name": "base",
   "language": "python",
   "name": "python3"
  },
  "language_info": {
   "codemirror_mode": {
    "name": "ipython",
    "version": 3
   },
   "file_extension": ".py",
   "mimetype": "text/x-python",
   "name": "python",
   "nbconvert_exporter": "python",
   "pygments_lexer": "ipython3",
   "version": "3.12.4"
  }
 },
 "nbformat": 4,
 "nbformat_minor": 2
}
